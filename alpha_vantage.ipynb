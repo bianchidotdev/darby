{
 "cells": [
  {
   "cell_type": "code",
   "execution_count": null,
   "metadata": {},
   "outputs": [],
   "source": [
    "require \"alphavantagerb\"\n",
    "client = Alphavantage::Client.new key: ENV[\"ALPHAVANTAGE_API_KEY\"]"
   ]
  },
  {
   "cell_type": "code",
   "execution_count": null,
   "metadata": {},
   "outputs": [],
   "source": [
    "stocks_found = client.search keywords: \"MSFT\"\n",
    "stocks_found.output\n",
    "puts(\n",
    "  stocks_found.stocks[0].symbol,\n",
    "  stocks_found.stocks[0].name,\n",
    "  stocks_found.stocks[0].type,\n",
    "  stocks_found.stocks[0].region,\n",
    "  stocks_found.stocks[0].marketopen,\n",
    "  stocks_found.stocks[0].marketclose,\n",
    "  stocks_found.stocks[0].timezone,\n",
    "  stocks_found.stocks[0].currency,\n",
    "  stocks_found.stocks[0].matchscore,\n",
    "  stocks_found.stocks[0].stock\n",
    ")"
   ]
  },
  {
   "cell_type": "code",
   "execution_count": null,
   "metadata": {},
   "outputs": [],
   "source": [
    "stock = client.stock symbol: \"MSFT\"\n",
    "stock_quote = stock.quote\n"
   ]
  },
  {
   "cell_type": "code",
   "execution_count": null,
   "metadata": {},
   "outputs": [],
   "source": [
    "puts(\n",
    "  stock_quote.output,\n",
    "stock_quote.symbol,\n",
    "stock_quote.open,\n",
    "stock_quote.high,\n",
    "stock_quote.low,\n",
    "stock_quote.price,\n",
    "stock_quote.volume,\n",
    "stock_quote.latest_trading_day,\n",
    "stock_quote.previous_close,\n",
    "stock_quote.change,\n",
    "stock_quote.change_percent,\n",
    "  )"
   ]
  },
  {
   "cell_type": "code",
   "execution_count": null,
   "metadata": {},
   "outputs": [],
   "source": [
    "timeseries = stock.timeseries(adjusted: true)"
   ]
  },
  {
   "cell_type": "code",
   "execution_count": null,
   "metadata": {},
   "outputs": [],
   "source": [
    "puts(\n",
    "  timeseries.information, # Retrieve information about the timeseries\n",
    "  timeseries.symbol, # Symbol used by the timeseries\n",
    "  timeseries.last_refreshed, # A timestamp that show when last time the data were refreshed\n",
    "  timeseries.output_size, # Size of the output\n",
    "  timeseries.time_zone, # Time zone of the timeseries\n",
    "\n",
    ")"
   ]
  },
  {
   "cell_type": "code",
   "execution_count": null,
   "metadata": {},
   "outputs": [],
   "source": [
    "puts(\n",
    "timeseries.open,\n",
    "  timeseries.close,\n",
    "  timeseries.high,\n",
    "  timeseries.low,\n",
    "  timeseries.volume,\n",
    "  timeseries.adjusted_close, # Available only if adjusted is true\n",
    "  timeseries.dividend_amount, # Available only if adjusted is true\n",
    "  timeseries.split_coefficient # Available only if adjusted is true\n",
    ")"
   ]
  },
  {
   "cell_type": "code",
   "execution_count": null,
   "metadata": {},
   "outputs": [],
   "source": [
    "indicator = stock.indicator function: \"SMA\"\n"
   ]
  },
  {
   "cell_type": "code",
   "execution_count": null,
   "metadata": {},
   "outputs": [],
   "source": [
    "indicator.sma\n"
   ]
  },
  {
   "cell_type": "code",
   "execution_count": null,
   "metadata": {},
   "outputs": [],
   "source": [
    "sector = client.sector\n"
   ]
  },
  {
   "cell_type": "code",
   "execution_count": null,
   "metadata": {},
   "outputs": [],
   "source": [
    "  sector.output\n"
   ]
  },
  {
   "cell_type": "code",
   "execution_count": null,
   "metadata": {},
   "outputs": [],
   "source": [
    "puts(\n",
    "  sector.information,\n",
    "  sector.last_refreshed,\n",
    "  sector.real_time_performance,\n",
    "  sector.one_day_performance,\n",
    "  sector.five_day_performance,\n",
    "  sector.one_month_performance,\n",
    "  sector.three_month_performance,\n",
    "  sector.year_to_date_performance,\n",
    "  sector.one_year_performance,\n",
    "  sector.three_year_performance,\n",
    "  sector.five_year_performance,\n",
    "  sector.ten_year_performance\n",
    "\n",
    ")"
   ]
  },
  {
   "cell_type": "code",
   "execution_count": null,
   "metadata": {},
   "outputs": [],
   "source": [
    "require 'daru'\n",
    "date_index = Daru::DateTimeIndex.new(timeseries.adjusted_close.map(&:first))\n",
    "adj_close = Daru::Vector.new(timeseries.adjusted_close.map(&:last))"
   ]
  },
  {
   "cell_type": "code",
   "execution_count": null,
   "metadata": {},
   "outputs": [],
   "source": [
    "adj_close_vector = Daru::Vector.new(adj_close, index: date_index)"
   ]
  },
  {
   "cell_type": "code",
   "execution_count": null,
   "metadata": {},
   "outputs": [],
   "source": [
    "require 'daru/view'\n",
    "Daru::View.plotting_library = :googlecharts"
   ]
  },
  {
   "cell_type": "code",
   "execution_count": null,
   "metadata": {},
   "outputs": [],
   "source": [
    "date_index = timeseries.adjusted_close.map(&:first).map {|date_string| Date.parse(date_string)}\n",
    "adj_close = Daru::Vector.new(timeseries.adjusted_close.map(&:last).map(&:to_f))\n",
    "data = date_index.zip(adj_close)\n",
    "line_basic_chart = Daru::View::Plot.new(data)\n",
    "line_basic_chart.show_in_iruby"
   ]
  },
  {
   "cell_type": "code",
   "execution_count": null,
   "metadata": {},
   "outputs": [],
   "source": []
  }
 ],
 "metadata": {
  "kernelspec": {
   "display_name": "Ruby 2.6.5",
   "language": "ruby",
   "name": "ruby"
  },
  "language_info": {
   "file_extension": ".rb",
   "mimetype": "application/x-ruby",
   "name": "ruby",
   "version": "2.7.1"
  }
 },
 "nbformat": 4,
 "nbformat_minor": 4
}
