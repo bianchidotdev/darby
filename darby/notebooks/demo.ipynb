{
 "cells": [
  {
   "cell_type": "code",
   "execution_count": null,
   "metadata": {},
   "outputs": [],
   "source": [
    "require 'daru'"
   ]
  },
  {
   "cell_type": "code",
   "execution_count": null,
   "metadata": {},
   "outputs": [],
   "source": [
    "require 'daru/view'\n",
    "Daru::View.plotting_library = :googlecharts\n"
   ]
  },
  {
   "cell_type": "code",
   "execution_count": null,
   "metadata": {},
   "outputs": [],
   "source": [
    "idx = Daru::Index.new ['Year', 'Sales']\n",
    "data_rows = [\n",
    "          ['2004',  1000],\n",
    "          ['2005',  1170],\n",
    "          ['2006',  660],\n",
    "          ['2007',  1030]\n",
    "]\n",
    "df_sale_exp = Daru::DataFrame.rows(data_rows)\n",
    "df_sale_exp.vectors = idx\n",
    "\n"
   ]
  },
  {
   "cell_type": "code",
   "execution_count": null,
   "metadata": {},
   "outputs": [],
   "source": [
    "line_basic_chart = Daru::View::Plot.new(df_sale_exp)\n",
    "line_basic_chart.chart"
   ]
  },
  {
   "cell_type": "code",
   "execution_count": null,
   "metadata": {},
   "outputs": [],
   "source": [
    "data = [\n",
    "  ['Galaxy', 'Distance', 'Brightness'],\n",
    "          ['Canis Major Dwarf', 8000, 230.3],\n",
    "          ['Sagittarius Dwarf', 24000, 4000.5],\n",
    "          ['Ursa Major II Dwarf', 30000, 1412.3],\n",
    "          ['Lg. Magellanic Cloud', 50000, 120.9],\n",
    "          ['Bootes I', 60000, 1223.1]\n",
    "  ]\n",
    "galaxy_table = Daru::View::Table.new(data)\n",
    "galaxy_table.table\n"
   ]
  },
  {
   "cell_type": "code",
   "execution_count": null,
   "metadata": {},
   "outputs": [],
   "source": [
    "dv = Daru::Vector.new [43934, 52503, 57177, 69658, 97031, 119931, 137133, 154175]\n",
    "\n",
    "# adding pagination and some customization [optional]\n",
    "opts_pagination = {\n",
    "  width: '100%', height: '100%' ,\n",
    "  pageSize: 20,\n",
    "}\n",
    "\n",
    "table_vec = Daru::View::Table.new(dv, opts_pagination)\n",
    "table_vec.table"
   ]
  },
  {
   "cell_type": "code",
   "execution_count": null,
   "metadata": {},
   "outputs": [],
   "source": []
  }
 ],
 "metadata": {
  "kernelspec": {
   "display_name": "Ruby 2.6.5",
   "language": "ruby",
   "name": "ruby"
  },
  "language_info": {
   "file_extension": ".rb",
   "mimetype": "application/x-ruby",
   "name": "ruby",
   "version": "2.7.1"
  }
 },
 "nbformat": 4,
 "nbformat_minor": 4
}
